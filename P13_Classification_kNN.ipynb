{
  "nbformat": 4,
  "nbformat_minor": 0,
  "metadata": {
    "colab": {
      "provenance": [],
      "authorship_tag": "ABX9TyOGqc9+qmZW9uuJZPkwIipa",
      "include_colab_link": true
    },
    "kernelspec": {
      "name": "python3",
      "display_name": "Python 3"
    },
    "language_info": {
      "name": "python"
    }
  },
  "cells": [
    {
      "cell_type": "markdown",
      "metadata": {
        "id": "view-in-github",
        "colab_type": "text"
      },
      "source": [
        "<a href=\"https://colab.research.google.com/github/gspandhana/MachineLearning/blob/main/P13_Classification_kNN.ipynb\" target=\"_parent\"><img src=\"https://colab.research.google.com/assets/colab-badge.svg\" alt=\"Open In Colab\"/></a>"
      ]
    },
    {
      "cell_type": "code",
      "execution_count": null,
      "metadata": {
        "id": "_4S8hvN3USuX"
      },
      "outputs": [],
      "source": [
        "# import libraries\n",
        "\n",
        "import pandas as pd\n",
        "import numpy as np\n",
        "import matplotlib.pyplot as plt\n",
        "\n",
        "from sklearn.model_selection import train_test_split\n",
        "\n",
        "from sklearn.linear_model import LogisticRegression\n",
        "from sklearn.neighbors import KNeighborsClassifier\n",
        "\n",
        "import warnings\n",
        "warnings.filterwarnings('ignore')"
      ]
    },
    {
      "cell_type": "code",
      "source": [
        "from google.colab import drive\n",
        "drive.mount('/content/drive/')"
      ],
      "metadata": {
        "colab": {
          "base_uri": "https://localhost:8080/"
        },
        "id": "NZwcAqR4UZ1h",
        "outputId": "c885dc82-2957-493e-fd11-74ae6ba8cc35"
      },
      "execution_count": null,
      "outputs": [
        {
          "output_type": "stream",
          "name": "stdout",
          "text": [
            "Mounted at /content/drive/\n"
          ]
        }
      ]
    },
    {
      "cell_type": "code",
      "source": [
        "cd /content/drive/My Drive/Colab Notebooks/data"
      ],
      "metadata": {
        "colab": {
          "base_uri": "https://localhost:8080/"
        },
        "id": "qzH2Y5SxUf_Z",
        "outputId": "3dd08a3e-9657-4802-d718-fe820b53d270"
      },
      "execution_count": null,
      "outputs": [
        {
          "output_type": "stream",
          "name": "stdout",
          "text": [
            "/content/drive/My Drive/Colab Notebooks/data\n"
          ]
        }
      ]
    },
    {
      "cell_type": "code",
      "source": [
        "# Read the \"Heart.csv\" dataset and take a quick look\n",
        "heart = pd.read_csv('Heart.csv')\n",
        "heart.head()\n",
        "\n"
      ],
      "metadata": {
        "colab": {
          "base_uri": "https://localhost:8080/",
          "height": 247
        },
        "id": "57H6CDQjUjgO",
        "outputId": "c67a4f45-fe63-4619-96c7-678595fb0613"
      },
      "execution_count": null,
      "outputs": [
        {
          "output_type": "execute_result",
          "data": {
            "text/plain": [
              "   Unnamed: 0  Age  Sex     ChestPain  RestBP  Chol  Fbs  RestECG  MaxHR  \\\n",
              "0           1   63    1       typical     145   233    1        2    150   \n",
              "1           2   67    1  asymptomatic     160   286    0        2    108   \n",
              "2           3   67    1  asymptomatic     120   229    0        2    129   \n",
              "3           4   37    1    nonanginal     130   250    0        0    187   \n",
              "4           5   41    0    nontypical     130   204    0        2    172   \n",
              "\n",
              "   ExAng  Oldpeak  Slope   Ca        Thal  AHD  \n",
              "0      0      2.3      3  0.0       fixed   No  \n",
              "1      1      1.5      2  3.0      normal  Yes  \n",
              "2      1      2.6      2  2.0  reversable  Yes  \n",
              "3      0      3.5      3  0.0      normal   No  \n",
              "4      0      1.4      1  0.0      normal   No  "
            ],
            "text/html": [
              "\n",
              "  <div id=\"df-c5f7d107-b1a3-42fe-891c-cfd058552e64\" class=\"colab-df-container\">\n",
              "    <div>\n",
              "<style scoped>\n",
              "    .dataframe tbody tr th:only-of-type {\n",
              "        vertical-align: middle;\n",
              "    }\n",
              "\n",
              "    .dataframe tbody tr th {\n",
              "        vertical-align: top;\n",
              "    }\n",
              "\n",
              "    .dataframe thead th {\n",
              "        text-align: right;\n",
              "    }\n",
              "</style>\n",
              "<table border=\"1\" class=\"dataframe\">\n",
              "  <thead>\n",
              "    <tr style=\"text-align: right;\">\n",
              "      <th></th>\n",
              "      <th>Unnamed: 0</th>\n",
              "      <th>Age</th>\n",
              "      <th>Sex</th>\n",
              "      <th>ChestPain</th>\n",
              "      <th>RestBP</th>\n",
              "      <th>Chol</th>\n",
              "      <th>Fbs</th>\n",
              "      <th>RestECG</th>\n",
              "      <th>MaxHR</th>\n",
              "      <th>ExAng</th>\n",
              "      <th>Oldpeak</th>\n",
              "      <th>Slope</th>\n",
              "      <th>Ca</th>\n",
              "      <th>Thal</th>\n",
              "      <th>AHD</th>\n",
              "    </tr>\n",
              "  </thead>\n",
              "  <tbody>\n",
              "    <tr>\n",
              "      <th>0</th>\n",
              "      <td>1</td>\n",
              "      <td>63</td>\n",
              "      <td>1</td>\n",
              "      <td>typical</td>\n",
              "      <td>145</td>\n",
              "      <td>233</td>\n",
              "      <td>1</td>\n",
              "      <td>2</td>\n",
              "      <td>150</td>\n",
              "      <td>0</td>\n",
              "      <td>2.3</td>\n",
              "      <td>3</td>\n",
              "      <td>0.0</td>\n",
              "      <td>fixed</td>\n",
              "      <td>No</td>\n",
              "    </tr>\n",
              "    <tr>\n",
              "      <th>1</th>\n",
              "      <td>2</td>\n",
              "      <td>67</td>\n",
              "      <td>1</td>\n",
              "      <td>asymptomatic</td>\n",
              "      <td>160</td>\n",
              "      <td>286</td>\n",
              "      <td>0</td>\n",
              "      <td>2</td>\n",
              "      <td>108</td>\n",
              "      <td>1</td>\n",
              "      <td>1.5</td>\n",
              "      <td>2</td>\n",
              "      <td>3.0</td>\n",
              "      <td>normal</td>\n",
              "      <td>Yes</td>\n",
              "    </tr>\n",
              "    <tr>\n",
              "      <th>2</th>\n",
              "      <td>3</td>\n",
              "      <td>67</td>\n",
              "      <td>1</td>\n",
              "      <td>asymptomatic</td>\n",
              "      <td>120</td>\n",
              "      <td>229</td>\n",
              "      <td>0</td>\n",
              "      <td>2</td>\n",
              "      <td>129</td>\n",
              "      <td>1</td>\n",
              "      <td>2.6</td>\n",
              "      <td>2</td>\n",
              "      <td>2.0</td>\n",
              "      <td>reversable</td>\n",
              "      <td>Yes</td>\n",
              "    </tr>\n",
              "    <tr>\n",
              "      <th>3</th>\n",
              "      <td>4</td>\n",
              "      <td>37</td>\n",
              "      <td>1</td>\n",
              "      <td>nonanginal</td>\n",
              "      <td>130</td>\n",
              "      <td>250</td>\n",
              "      <td>0</td>\n",
              "      <td>0</td>\n",
              "      <td>187</td>\n",
              "      <td>0</td>\n",
              "      <td>3.5</td>\n",
              "      <td>3</td>\n",
              "      <td>0.0</td>\n",
              "      <td>normal</td>\n",
              "      <td>No</td>\n",
              "    </tr>\n",
              "    <tr>\n",
              "      <th>4</th>\n",
              "      <td>5</td>\n",
              "      <td>41</td>\n",
              "      <td>0</td>\n",
              "      <td>nontypical</td>\n",
              "      <td>130</td>\n",
              "      <td>204</td>\n",
              "      <td>0</td>\n",
              "      <td>2</td>\n",
              "      <td>172</td>\n",
              "      <td>0</td>\n",
              "      <td>1.4</td>\n",
              "      <td>1</td>\n",
              "      <td>0.0</td>\n",
              "      <td>normal</td>\n",
              "      <td>No</td>\n",
              "    </tr>\n",
              "  </tbody>\n",
              "</table>\n",
              "</div>\n",
              "    <div class=\"colab-df-buttons\">\n",
              "\n",
              "  <div class=\"colab-df-container\">\n",
              "    <button class=\"colab-df-convert\" onclick=\"convertToInteractive('df-c5f7d107-b1a3-42fe-891c-cfd058552e64')\"\n",
              "            title=\"Convert this dataframe to an interactive table.\"\n",
              "            style=\"display:none;\">\n",
              "\n",
              "  <svg xmlns=\"http://www.w3.org/2000/svg\" height=\"24px\" viewBox=\"0 -960 960 960\">\n",
              "    <path d=\"M120-120v-720h720v720H120Zm60-500h600v-160H180v160Zm220 220h160v-160H400v160Zm0 220h160v-160H400v160ZM180-400h160v-160H180v160Zm440 0h160v-160H620v160ZM180-180h160v-160H180v160Zm440 0h160v-160H620v160Z\"/>\n",
              "  </svg>\n",
              "    </button>\n",
              "\n",
              "  <style>\n",
              "    .colab-df-container {\n",
              "      display:flex;\n",
              "      gap: 12px;\n",
              "    }\n",
              "\n",
              "    .colab-df-convert {\n",
              "      background-color: #E8F0FE;\n",
              "      border: none;\n",
              "      border-radius: 50%;\n",
              "      cursor: pointer;\n",
              "      display: none;\n",
              "      fill: #1967D2;\n",
              "      height: 32px;\n",
              "      padding: 0 0 0 0;\n",
              "      width: 32px;\n",
              "    }\n",
              "\n",
              "    .colab-df-convert:hover {\n",
              "      background-color: #E2EBFA;\n",
              "      box-shadow: 0px 1px 2px rgba(60, 64, 67, 0.3), 0px 1px 3px 1px rgba(60, 64, 67, 0.15);\n",
              "      fill: #174EA6;\n",
              "    }\n",
              "\n",
              "    .colab-df-buttons div {\n",
              "      margin-bottom: 4px;\n",
              "    }\n",
              "\n",
              "    [theme=dark] .colab-df-convert {\n",
              "      background-color: #3B4455;\n",
              "      fill: #D2E3FC;\n",
              "    }\n",
              "\n",
              "    [theme=dark] .colab-df-convert:hover {\n",
              "      background-color: #434B5C;\n",
              "      box-shadow: 0px 1px 3px 1px rgba(0, 0, 0, 0.15);\n",
              "      filter: drop-shadow(0px 1px 2px rgba(0, 0, 0, 0.3));\n",
              "      fill: #FFFFFF;\n",
              "    }\n",
              "  </style>\n",
              "\n",
              "    <script>\n",
              "      const buttonEl =\n",
              "        document.querySelector('#df-c5f7d107-b1a3-42fe-891c-cfd058552e64 button.colab-df-convert');\n",
              "      buttonEl.style.display =\n",
              "        google.colab.kernel.accessAllowed ? 'block' : 'none';\n",
              "\n",
              "      async function convertToInteractive(key) {\n",
              "        const element = document.querySelector('#df-c5f7d107-b1a3-42fe-891c-cfd058552e64');\n",
              "        const dataTable =\n",
              "          await google.colab.kernel.invokeFunction('convertToInteractive',\n",
              "                                                    [key], {});\n",
              "        if (!dataTable) return;\n",
              "\n",
              "        const docLinkHtml = 'Like what you see? Visit the ' +\n",
              "          '<a target=\"_blank\" href=https://colab.research.google.com/notebooks/data_table.ipynb>data table notebook</a>'\n",
              "          + ' to learn more about interactive tables.';\n",
              "        element.innerHTML = '';\n",
              "        dataTable['output_type'] = 'display_data';\n",
              "        await google.colab.output.renderOutput(dataTable, element);\n",
              "        const docLink = document.createElement('div');\n",
              "        docLink.innerHTML = docLinkHtml;\n",
              "        element.appendChild(docLink);\n",
              "      }\n",
              "    </script>\n",
              "  </div>\n",
              "\n",
              "\n",
              "<div id=\"df-329177e5-bfd1-4d77-9e48-105266ebf8f5\">\n",
              "  <button class=\"colab-df-quickchart\" onclick=\"quickchart('df-329177e5-bfd1-4d77-9e48-105266ebf8f5')\"\n",
              "            title=\"Suggest charts.\"\n",
              "            style=\"display:none;\">\n",
              "\n",
              "<svg xmlns=\"http://www.w3.org/2000/svg\" height=\"24px\"viewBox=\"0 0 24 24\"\n",
              "     width=\"24px\">\n",
              "    <g>\n",
              "        <path d=\"M19 3H5c-1.1 0-2 .9-2 2v14c0 1.1.9 2 2 2h14c1.1 0 2-.9 2-2V5c0-1.1-.9-2-2-2zM9 17H7v-7h2v7zm4 0h-2V7h2v10zm4 0h-2v-4h2v4z\"/>\n",
              "    </g>\n",
              "</svg>\n",
              "  </button>\n",
              "\n",
              "<style>\n",
              "  .colab-df-quickchart {\n",
              "      --bg-color: #E8F0FE;\n",
              "      --fill-color: #1967D2;\n",
              "      --hover-bg-color: #E2EBFA;\n",
              "      --hover-fill-color: #174EA6;\n",
              "      --disabled-fill-color: #AAA;\n",
              "      --disabled-bg-color: #DDD;\n",
              "  }\n",
              "\n",
              "  [theme=dark] .colab-df-quickchart {\n",
              "      --bg-color: #3B4455;\n",
              "      --fill-color: #D2E3FC;\n",
              "      --hover-bg-color: #434B5C;\n",
              "      --hover-fill-color: #FFFFFF;\n",
              "      --disabled-bg-color: #3B4455;\n",
              "      --disabled-fill-color: #666;\n",
              "  }\n",
              "\n",
              "  .colab-df-quickchart {\n",
              "    background-color: var(--bg-color);\n",
              "    border: none;\n",
              "    border-radius: 50%;\n",
              "    cursor: pointer;\n",
              "    display: none;\n",
              "    fill: var(--fill-color);\n",
              "    height: 32px;\n",
              "    padding: 0;\n",
              "    width: 32px;\n",
              "  }\n",
              "\n",
              "  .colab-df-quickchart:hover {\n",
              "    background-color: var(--hover-bg-color);\n",
              "    box-shadow: 0 1px 2px rgba(60, 64, 67, 0.3), 0 1px 3px 1px rgba(60, 64, 67, 0.15);\n",
              "    fill: var(--button-hover-fill-color);\n",
              "  }\n",
              "\n",
              "  .colab-df-quickchart-complete:disabled,\n",
              "  .colab-df-quickchart-complete:disabled:hover {\n",
              "    background-color: var(--disabled-bg-color);\n",
              "    fill: var(--disabled-fill-color);\n",
              "    box-shadow: none;\n",
              "  }\n",
              "\n",
              "  .colab-df-spinner {\n",
              "    border: 2px solid var(--fill-color);\n",
              "    border-color: transparent;\n",
              "    border-bottom-color: var(--fill-color);\n",
              "    animation:\n",
              "      spin 1s steps(1) infinite;\n",
              "  }\n",
              "\n",
              "  @keyframes spin {\n",
              "    0% {\n",
              "      border-color: transparent;\n",
              "      border-bottom-color: var(--fill-color);\n",
              "      border-left-color: var(--fill-color);\n",
              "    }\n",
              "    20% {\n",
              "      border-color: transparent;\n",
              "      border-left-color: var(--fill-color);\n",
              "      border-top-color: var(--fill-color);\n",
              "    }\n",
              "    30% {\n",
              "      border-color: transparent;\n",
              "      border-left-color: var(--fill-color);\n",
              "      border-top-color: var(--fill-color);\n",
              "      border-right-color: var(--fill-color);\n",
              "    }\n",
              "    40% {\n",
              "      border-color: transparent;\n",
              "      border-right-color: var(--fill-color);\n",
              "      border-top-color: var(--fill-color);\n",
              "    }\n",
              "    60% {\n",
              "      border-color: transparent;\n",
              "      border-right-color: var(--fill-color);\n",
              "    }\n",
              "    80% {\n",
              "      border-color: transparent;\n",
              "      border-right-color: var(--fill-color);\n",
              "      border-bottom-color: var(--fill-color);\n",
              "    }\n",
              "    90% {\n",
              "      border-color: transparent;\n",
              "      border-bottom-color: var(--fill-color);\n",
              "    }\n",
              "  }\n",
              "</style>\n",
              "\n",
              "  <script>\n",
              "    async function quickchart(key) {\n",
              "      const quickchartButtonEl =\n",
              "        document.querySelector('#' + key + ' button');\n",
              "      quickchartButtonEl.disabled = true;  // To prevent multiple clicks.\n",
              "      quickchartButtonEl.classList.add('colab-df-spinner');\n",
              "      try {\n",
              "        const charts = await google.colab.kernel.invokeFunction(\n",
              "            'suggestCharts', [key], {});\n",
              "      } catch (error) {\n",
              "        console.error('Error during call to suggestCharts:', error);\n",
              "      }\n",
              "      quickchartButtonEl.classList.remove('colab-df-spinner');\n",
              "      quickchartButtonEl.classList.add('colab-df-quickchart-complete');\n",
              "    }\n",
              "    (() => {\n",
              "      let quickchartButtonEl =\n",
              "        document.querySelector('#df-329177e5-bfd1-4d77-9e48-105266ebf8f5 button');\n",
              "      quickchartButtonEl.style.display =\n",
              "        google.colab.kernel.accessAllowed ? 'block' : 'none';\n",
              "    })();\n",
              "  </script>\n",
              "</div>\n",
              "    </div>\n",
              "  </div>\n"
            ]
          },
          "metadata": {},
          "execution_count": 6
        }
      ]
    },
    {
      "cell_type": "code",
      "source": [
        "# Force the response into a binary indicator:\n",
        "heart['AHD'] = 1*(heart['AHD'] == \"Yes\")\n",
        "\n",
        "print(heart.shape)"
      ],
      "metadata": {
        "colab": {
          "base_uri": "https://localhost:8080/"
        },
        "id": "XjwVgU9LUtyk",
        "outputId": "b2a3926a-b8d5-415f-d8bc-8fcc3b868513"
      },
      "execution_count": null,
      "outputs": [
        {
          "output_type": "stream",
          "name": "stdout",
          "text": [
            "(303, 15)\n"
          ]
        }
      ]
    },
    {
      "cell_type": "code",
      "source": [
        "# split into train and validation\n",
        "heart_train, heart_val = train_test_split(heart, train_size = 0.75, random_state = 109)\n",
        "\n",
        "print(heart_train.shape, heart_val.shape)"
      ],
      "metadata": {
        "colab": {
          "base_uri": "https://localhost:8080/"
        },
        "id": "nrjOT_RtU62-",
        "outputId": "7524effc-d0ca-413b-c541-047eb65f7c1b"
      },
      "execution_count": null,
      "outputs": [
        {
          "output_type": "stream",
          "name": "stdout",
          "text": [
            "(227, 15) (76, 15)\n"
          ]
        }
      ]
    },
    {
      "cell_type": "markdown",
      "source": [
        "### $k$-NN model fitting\n",
        "\n",
        "Define and fit a $k$-NN classification model with $k=20$ to predict `AHD` from `Age`."
      ],
      "metadata": {
        "id": "Q875rxmwVEEu"
      }
    },
    {
      "cell_type": "code",
      "source": [
        "# select variables for model estimation: be careful of format\n",
        "# (aka, single or double square brackets)\n",
        "x_train = heart_train[['Age']]\n",
        "y_train = heart_train['AHD']\n",
        "\n",
        "# define the model\n",
        "knn20 = KNeighborsClassifier(n_neighbors=20)\n",
        "\n",
        "# fit to the data\n",
        "knn20.fit(x_train , y_train)"
      ],
      "metadata": {
        "colab": {
          "base_uri": "https://localhost:8080/",
          "height": 75
        },
        "id": "gAwD81o9VE2O",
        "outputId": "6967742d-f170-4ab1-9fe1-d5e7fbb62089"
      },
      "execution_count": null,
      "outputs": [
        {
          "output_type": "execute_result",
          "data": {
            "text/plain": [
              "KNeighborsClassifier(n_neighbors=20)"
            ],
            "text/html": [
              "<style>#sk-container-id-1 {color: black;background-color: white;}#sk-container-id-1 pre{padding: 0;}#sk-container-id-1 div.sk-toggleable {background-color: white;}#sk-container-id-1 label.sk-toggleable__label {cursor: pointer;display: block;width: 100%;margin-bottom: 0;padding: 0.3em;box-sizing: border-box;text-align: center;}#sk-container-id-1 label.sk-toggleable__label-arrow:before {content: \"▸\";float: left;margin-right: 0.25em;color: #696969;}#sk-container-id-1 label.sk-toggleable__label-arrow:hover:before {color: black;}#sk-container-id-1 div.sk-estimator:hover label.sk-toggleable__label-arrow:before {color: black;}#sk-container-id-1 div.sk-toggleable__content {max-height: 0;max-width: 0;overflow: hidden;text-align: left;background-color: #f0f8ff;}#sk-container-id-1 div.sk-toggleable__content pre {margin: 0.2em;color: black;border-radius: 0.25em;background-color: #f0f8ff;}#sk-container-id-1 input.sk-toggleable__control:checked~div.sk-toggleable__content {max-height: 200px;max-width: 100%;overflow: auto;}#sk-container-id-1 input.sk-toggleable__control:checked~label.sk-toggleable__label-arrow:before {content: \"▾\";}#sk-container-id-1 div.sk-estimator input.sk-toggleable__control:checked~label.sk-toggleable__label {background-color: #d4ebff;}#sk-container-id-1 div.sk-label input.sk-toggleable__control:checked~label.sk-toggleable__label {background-color: #d4ebff;}#sk-container-id-1 input.sk-hidden--visually {border: 0;clip: rect(1px 1px 1px 1px);clip: rect(1px, 1px, 1px, 1px);height: 1px;margin: -1px;overflow: hidden;padding: 0;position: absolute;width: 1px;}#sk-container-id-1 div.sk-estimator {font-family: monospace;background-color: #f0f8ff;border: 1px dotted black;border-radius: 0.25em;box-sizing: border-box;margin-bottom: 0.5em;}#sk-container-id-1 div.sk-estimator:hover {background-color: #d4ebff;}#sk-container-id-1 div.sk-parallel-item::after {content: \"\";width: 100%;border-bottom: 1px solid gray;flex-grow: 1;}#sk-container-id-1 div.sk-label:hover label.sk-toggleable__label {background-color: #d4ebff;}#sk-container-id-1 div.sk-serial::before {content: \"\";position: absolute;border-left: 1px solid gray;box-sizing: border-box;top: 0;bottom: 0;left: 50%;z-index: 0;}#sk-container-id-1 div.sk-serial {display: flex;flex-direction: column;align-items: center;background-color: white;padding-right: 0.2em;padding-left: 0.2em;position: relative;}#sk-container-id-1 div.sk-item {position: relative;z-index: 1;}#sk-container-id-1 div.sk-parallel {display: flex;align-items: stretch;justify-content: center;background-color: white;position: relative;}#sk-container-id-1 div.sk-item::before, #sk-container-id-1 div.sk-parallel-item::before {content: \"\";position: absolute;border-left: 1px solid gray;box-sizing: border-box;top: 0;bottom: 0;left: 50%;z-index: -1;}#sk-container-id-1 div.sk-parallel-item {display: flex;flex-direction: column;z-index: 1;position: relative;background-color: white;}#sk-container-id-1 div.sk-parallel-item:first-child::after {align-self: flex-end;width: 50%;}#sk-container-id-1 div.sk-parallel-item:last-child::after {align-self: flex-start;width: 50%;}#sk-container-id-1 div.sk-parallel-item:only-child::after {width: 0;}#sk-container-id-1 div.sk-dashed-wrapped {border: 1px dashed gray;margin: 0 0.4em 0.5em 0.4em;box-sizing: border-box;padding-bottom: 0.4em;background-color: white;}#sk-container-id-1 div.sk-label label {font-family: monospace;font-weight: bold;display: inline-block;line-height: 1.2em;}#sk-container-id-1 div.sk-label-container {text-align: center;}#sk-container-id-1 div.sk-container {/* jupyter's `normalize.less` sets `[hidden] { display: none; }` but bootstrap.min.css set `[hidden] { display: none !important; }` so we also need the `!important` here to be able to override the default hidden behavior on the sphinx rendered scikit-learn.org. See: https://github.com/scikit-learn/scikit-learn/issues/21755 */display: inline-block !important;position: relative;}#sk-container-id-1 div.sk-text-repr-fallback {display: none;}</style><div id=\"sk-container-id-1\" class=\"sk-top-container\"><div class=\"sk-text-repr-fallback\"><pre>KNeighborsClassifier(n_neighbors=20)</pre><b>In a Jupyter environment, please rerun this cell to show the HTML representation or trust the notebook. <br />On GitHub, the HTML representation is unable to render, please try loading this page with nbviewer.org.</b></div><div class=\"sk-container\" hidden><div class=\"sk-item\"><div class=\"sk-estimator sk-toggleable\"><input class=\"sk-toggleable__control sk-hidden--visually\" id=\"sk-estimator-id-1\" type=\"checkbox\" checked><label for=\"sk-estimator-id-1\" class=\"sk-toggleable__label sk-toggleable__label-arrow\">KNeighborsClassifier</label><div class=\"sk-toggleable__content\"><pre>KNeighborsClassifier(n_neighbors=20)</pre></div></div></div></div></div>"
            ]
          },
          "metadata": {},
          "execution_count": 9
        }
      ]
    },
    {
      "cell_type": "markdown",
      "source": [
        "### $k$-NN prediction\n",
        "\n",
        "Perform some simple predictions: both the pure classifications and the probability estimates."
      ],
      "metadata": {
        "id": "-22q-ipCVvSK"
      }
    },
    {
      "cell_type": "code",
      "source": [
        "# there are two types of predictions in classification models in sklearn\n",
        "# model.predict for pure classifications, and model.predict_proba for probabilities\n",
        "\n",
        "# create the predictions based on the train data\n",
        "yhat20_class = knn20.predict(x_train)\n",
        "yhat20_prob = knn20.predict_proba(x_train)\n",
        "\n",
        "# print out the first 10 predictions for the actual data\n",
        "print(yhat20_class[1:10])\n",
        "print(yhat20_prob[1:10])"
      ],
      "metadata": {
        "colab": {
          "base_uri": "https://localhost:8080/"
        },
        "id": "Ubm0g_BEVwVu",
        "outputId": "d23265ca-7088-4ce5-b523-19b58404bfe6"
      },
      "execution_count": null,
      "outputs": [
        {
          "output_type": "stream",
          "name": "stdout",
          "text": [
            "[0 1 1 1 0 1 1 0 1]\n",
            "[[0.75 0.25]\n",
            " [0.4  0.6 ]\n",
            " [0.25 0.75]\n",
            " [0.3  0.7 ]\n",
            " [0.65 0.35]\n",
            " [0.45 0.55]\n",
            " [0.35 0.65]\n",
            " [0.7  0.3 ]\n",
            " [0.35 0.65]]\n"
          ]
        }
      ]
    },
    {
      "cell_type": "markdown",
      "source": [
        "## Simple logistic regression model fitting\n",
        "\n",
        "Define and fit a simple logistic model to predict `AHD` from `Age`."
      ],
      "metadata": {
        "id": "Yv7FCQ8AWe_A"
      }
    },
    {
      "cell_type": "code",
      "source": [
        "# Create a logistic regression model, with 'none' as the penalty\n",
        "\n",
        "logit1 = LogisticRegression(penalty='none', max_iter = 1000)\n",
        "\n",
        "#Fit the model using the training set\n",
        "\n",
        "logit1.fit(x_train,y_train)\n",
        "\n",
        "# Get the coefficient estimates\n",
        "#print(logit1.intercept_)\n",
        "print(\"Logistic Regression Estimated Betas (B0,B1):\",logit1.intercept_  ,logit1.coef_)"
      ],
      "metadata": {
        "colab": {
          "base_uri": "https://localhost:8080/"
        },
        "id": "PAxqzMqNWL4k",
        "outputId": "8ee27a00-c190-4521-cf65-f838debe3457"
      },
      "execution_count": null,
      "outputs": [
        {
          "output_type": "stream",
          "name": "stdout",
          "text": [
            "Logistic Regression Estimated Betas (B0,B1): [-3.32616703] [[0.05933142]]\n"
          ]
        }
      ]
    },
    {
      "cell_type": "markdown",
      "source": [
        "Interpret the Coefficient Estimates\n",
        "\n",
        "Recall the logistic regression formula.\n",
        "\n",
        "$$ \\ln\\left(  \\frac{P(Y=1)}{1-P(Y=1)} \\right) = \\hat{\\beta}_0 + \\hat{\\beta}_1 X$$\n",
        "\n",
        "Use this formula and your coefficients from above to answer the following: What is the estimated odds that a 60 year old will have AHD in the ICU?  What is the probability?\n",
        "\n"
      ],
      "metadata": {
        "id": "Ag6pQA_DcKbw"
      }
    },
    {
      "cell_type": "code",
      "source": [
        "# Confirm the probability calculation you made above using logit1logit1.predict_proba()\n",
        "# predict for one observation where age = 60.  Hint: double brackets is one way to do it\n",
        "\n",
        "logit1.predict_proba([[60]])"
      ],
      "metadata": {
        "id": "r5zBSqWHcMy-"
      },
      "execution_count": null,
      "outputs": []
    },
    {
      "cell_type": "markdown",
      "source": [
        "### $k$-NN and logistic accuracy"
      ],
      "metadata": {
        "id": "E-LsGrXWcU33"
      }
    },
    {
      "cell_type": "code",
      "source": [
        "# Define the equivalent validation variables from `heart_val`\n",
        "\n",
        "x_val = heart_val[['Age']]\n",
        "y_val = heart_val['AHD']\n",
        "\n",
        "# Compute the training & validation accuracy using the estimator.score() function\n",
        "\n",
        "knn20_train_accuracy = knn20.score(x_train, y_train)\n",
        "knn20_val_accuracy = knn20.score(x_val, y_val)\n",
        "\n",
        "logit_train_accuracy = logit1.score(x_train, y_train)\n",
        "logit_val_accuracy = logit1.score(x_val, y_val)\n",
        "\n",
        "# Print the accuracies below\n",
        "\n",
        "print(\"k-NN Train & Validation Accuracy:\", knn20_train_accuracy, knn20_val_accuracy)\n",
        "print(\"Logisitic Train & Validation Accuracy:\", logit_train_accuracy, logit_val_accuracy)"
      ],
      "metadata": {
        "colab": {
          "base_uri": "https://localhost:8080/"
        },
        "id": "uvhyhGkBcVz1",
        "outputId": "eec673f9-daed-4c15-e0fe-a5153343044b"
      },
      "execution_count": null,
      "outputs": [
        {
          "output_type": "stream",
          "name": "stdout",
          "text": [
            "k-NN Train & Validation Accuracy: 0.6563876651982379 0.5921052631578947\n",
            "Logisitic Train & Validation Accuracy: 0.6387665198237885 0.6052631578947368\n"
          ]
        }
      ]
    },
    {
      "cell_type": "markdown",
      "source": [
        "### Plot the predictions"
      ],
      "metadata": {
        "id": "IqxYJVAwcY9U"
      }
    },
    {
      "cell_type": "code",
      "source": [
        "\n",
        "# set-up the dummy x for plotting: we extend it a little bit beyond the range of observed values\n",
        "x = np.linspace(np.min(heart[['Age']])-10,np.max(heart[['Age']])+10,200)\n",
        "\n",
        "\n",
        "# be careful in pulling off only the correct column of the probability calculations: use `[:,1]`\n",
        "yhat_class_knn20 = knn20.predict(x)\n",
        "yhat_prob_knn20 = knn20.predict_proba(x)[:,1]\n",
        "\n",
        "yhat_class_logit = logit1.predict(x)\n",
        "yhat_prob_logit = logit1.predict_proba(x)[:,1]\n",
        "\n",
        "# plot the observed data.  Note: we offset the validation points to make them more clearly differentiated from train\n",
        "plt.plot(x_train, y_train, 'o' ,alpha=0.1, label='Train Data')\n",
        "plt.plot(x_val, 0.94*y_val+0.03, 'o' ,alpha=0.1, label='Validation Data')\n",
        "\n",
        "# plot the predictions\n",
        "plt.plot(x, yhat_class_knn20, label='knn20 Classifications')\n",
        "plt.plot(x, yhat_prob_knn20, label='knn20 Probabilities')\n",
        "plt.plot(x, yhat_class_logit, label='logit1 Classifications')\n",
        "plt.plot(x, yhat_prob_logit, label='logit1 Probabilities')\n",
        "\n",
        "# put the lower-left part of the legend 5% to the right along the x-axis, and 45% up along the y-axis\n",
        "plt.legend(loc=(0.05,0.45))\n",
        "\n",
        "# Don't forget your axis labels!\n",
        "plt.xlabel(\"Age\")\n",
        "plt.ylabel(\"Heart disease (AHD)\")\n",
        "\n",
        "plt.show()"
      ],
      "metadata": {
        "id": "LU5uhlnLcb7-",
        "outputId": "d3456adb-a836-4ae0-ab3d-f008396119b0",
        "colab": {
          "base_uri": "https://localhost:8080/",
          "height": 449
        }
      },
      "execution_count": null,
      "outputs": [
        {
          "output_type": "display_data",
          "data": {
            "text/plain": [
              "<Figure size 640x480 with 1 Axes>"
            ],
            "image/png": "[encoded data removed]"
          },
          "metadata": {}
        }
      ]
    },
    {
      "cell_type": "code",
      "source": [
        "beta0 = 18\n",
        "\n",
        "beta1 = 1\n",
        "\n",
        "1/(1+np.exp(-(beta0+np.dot(beta1,6))))"
      ],
      "metadata": {
        "colab": {
          "base_uri": "https://localhost:8080/"
        },
        "id": "KcyG7Ueao2RG",
        "outputId": "0bd6c27e-cee5-403e-d3a0-64328a6757a7"
      },
      "execution_count": null,
      "outputs": [
        {
          "output_type": "execute_result",
          "data": {
            "text/plain": [
              "0.9999999999622486"
            ]
          },
          "metadata": {},
          "execution_count": 25
        }
      ]
    }
  ]
}